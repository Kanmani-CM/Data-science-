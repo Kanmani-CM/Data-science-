{
  "nbformat": 4,
  "nbformat_minor": 0,
  "metadata": {
    "colab": {
      "provenance": [],
      "authorship_tag": "ABX9TyMZbQfC0hlukscXI5sd4v7K",
      "include_colab_link": true
    },
    "kernelspec": {
      "name": "python3",
      "display_name": "Python 3"
    },
    "language_info": {
      "name": "python"
    }
  },
  "cells": [
    {
      "cell_type": "markdown",
      "metadata": {
        "id": "view-in-github",
        "colab_type": "text"
      },
      "source": [
        "<a href=\"https://colab.research.google.com/github/Kanmani-CM/Data-science-/blob/main/task7.ipynb\" target=\"_parent\"><img src=\"https://colab.research.google.com/assets/colab-badge.svg\" alt=\"Open In Colab\"/></a>"
      ]
    },
    {
      "cell_type": "markdown",
      "source": [
        "TASK-4\n",
        "1)a. Write a NumPy program to convert an array to a float **type**"
      ],
      "metadata": {
        "id": "PVuPMGiLljk6"
      }
    },
    {
      "cell_type": "code",
      "execution_count": null,
      "metadata": {
        "colab": {
          "base_uri": "https://localhost:8080/"
        },
        "id": "gDwU4eFHkTh_",
        "outputId": "5bedc3c9-6b56-4fbc-c361-92173829c89c"
      },
      "outputs": [
        {
          "output_type": "stream",
          "name": "stdout",
          "text": [
            "Original array: [1 2 3 4 5]\n",
            "Array with float type: [1. 2. 3. 4. 5.]\n"
          ]
        }
      ],
      "source": [
        "import numpy as np\n",
        "\n",
        "# Create an integer array\n",
        "int_array = np.array([1, 2, 3, 4, 5])\n",
        "\n",
        "# Convert the array to float type\n",
        "float_array = int_array.astype(float)\n",
        "\n",
        "print(\"Original array:\", int_array)\n",
        "print(\"Array with float type:\", float_array)\n"
      ]
    },
    {
      "cell_type": "markdown",
      "source": [
        "b. Write a NumPy program to add a border (filled with 0's) around an existing array"
      ],
      "metadata": {
        "id": "GjZdIk7hl7Ww"
      }
    },
    {
      "cell_type": "code",
      "source": [
        "import numpy as np\n",
        "\n",
        "# Create an example array\n",
        "existing_array = np.array([[1, 2, 3], [4, 5, 6]])\n",
        "\n",
        "# Add a border with 0's around the existing array\n",
        "array_with_border = np.pad(existing_array, pad_width=1, mode='constant', constant_values=0)\n",
        "\n",
        "print(\"Existing array:\")\n",
        "print(existing_array)\n",
        "print(\"Array with border:\")\n",
        "print(array_with_border)\n"
      ],
      "metadata": {
        "colab": {
          "base_uri": "https://localhost:8080/"
        },
        "id": "26boEMUbkuC5",
        "outputId": "6e95a5bd-2875-42f3-dd6f-bc432ebfa3f6"
      },
      "execution_count": null,
      "outputs": [
        {
          "output_type": "stream",
          "name": "stdout",
          "text": [
            "Existing array:\n",
            "[[1 2 3]\n",
            " [4 5 6]]\n",
            "Array with border:\n",
            "[[0 0 0 0 0]\n",
            " [0 1 2 3 0]\n",
            " [0 4 5 6 0]\n",
            " [0 0 0 0 0]]\n"
          ]
        }
      ]
    },
    {
      "cell_type": "markdown",
      "source": [
        "c. Write a NumPy program to convert a list and tuple into arrays"
      ],
      "metadata": {
        "id": "a0qRbkxmmAkn"
      }
    },
    {
      "cell_type": "code",
      "source": [
        "import numpy as np\n",
        "\n",
        "# Convert a list to array\n",
        "list_data = [1, 2, 3, 4, 5]\n",
        "array_from_list = np.array(list_data)\n",
        "\n",
        "# Convert a tuple to array\n",
        "tuple_data = (5, 4, 3, 2, 1)\n",
        "array_from_tuple = np.array(tuple_data)\n",
        "\n",
        "print(\"Array from list:\", array_from_list)\n",
        "print(\"Array from tuple:\", array_from_tuple)\n"
      ],
      "metadata": {
        "colab": {
          "base_uri": "https://localhost:8080/"
        },
        "id": "KdaPuCC0kyYv",
        "outputId": "910748eb-4816-44b3-dcb2-ff2e2a277e1a"
      },
      "execution_count": null,
      "outputs": [
        {
          "output_type": "stream",
          "name": "stdout",
          "text": [
            "Array from list: [1 2 3 4 5]\n",
            "Array from tuple: [5 4 3 2 1]\n"
          ]
        }
      ]
    },
    {
      "cell_type": "markdown",
      "source": [
        "d. Write a NumPy program to append values to the end of an array"
      ],
      "metadata": {
        "id": "ADaPJBtZmE1A"
      }
    },
    {
      "cell_type": "code",
      "source": [
        "import numpy as np\n",
        "\n",
        "# Create an initial array\n",
        "initial_array = np.array([1, 2, 3])\n",
        "\n",
        "# Values to append\n",
        "values_to_append = np.array([4, 5, 6])\n",
        "\n",
        "# Append values to the end of the array\n",
        "result_array = np.append(initial_array, values_to_append)\n",
        "\n",
        "print(\"Initial array:\", initial_array)\n",
        "print(\"Array after appending values:\", result_array)\n"
      ],
      "metadata": {
        "colab": {
          "base_uri": "https://localhost:8080/"
        },
        "id": "3YQp-WEYk2gP",
        "outputId": "8c839781-d0c4-452d-b674-74313f9b38fc"
      },
      "execution_count": null,
      "outputs": [
        {
          "output_type": "stream",
          "name": "stdout",
          "text": [
            "Initial array: [1 2 3]\n",
            "Array after appending values: [1 2 3 4 5 6]\n"
          ]
        }
      ]
    }
  ]
}