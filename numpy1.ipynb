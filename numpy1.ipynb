{
  "cells": [
    {
      "cell_type": "markdown",
      "metadata": {
        "id": "view-in-github",
        "colab_type": "text"
      },
      "source": [
        "<a href=\"https://colab.research.google.com/github/Kanmani-CM/Data-science-/blob/main/numpy1.ipynb\" target=\"_parent\"><img src=\"https://colab.research.google.com/assets/colab-badge.svg\" alt=\"Open In Colab\"/></a>"
      ]
    },
    {
      "cell_type": "code",
      "execution_count": null,
      "metadata": {
        "colab": {
          "base_uri": "https://localhost:8080/"
        },
        "id": "1ohvDUo7NJ3N",
        "outputId": "24d34753-269d-4239-bdc5-42b0eee35c27"
      },
      "outputs": [
        {
          "output_type": "stream",
          "name": "stdout",
          "text": [
            "[1 2 3 4 5]\n",
            "<class 'numpy.ndarray'>\n"
          ]
        }
      ],
      "source": [
        "import numpy as np\n",
        "\n",
        "arr = np.array([1, 2, 3, 4, 5])\n",
        "\n",
        "print(arr)\n",
        "\n",
        "print(type(arr))"
      ]
    },
    {
      "cell_type": "code",
      "source": [
        "import numpy as np\n",
        "a=np.array([20,30,60])\n",
        "b=np.array([1,5,8])\n",
        "print(np.add(a,b))\n",
        "print(np.subtract(a,b))\n",
        "print(np.multiply(a,b))\n",
        "print(np.divide(a,b))"
      ],
      "metadata": {
        "colab": {
          "base_uri": "https://localhost:8080/"
        },
        "id": "d13dkFMwjdQ8",
        "outputId": "59e838d2-c201-4227-f73c-61e9e288fdf0"
      },
      "execution_count": null,
      "outputs": [
        {
          "output_type": "stream",
          "name": "stdout",
          "text": [
            "[21 35 68]\n",
            "[19 25 52]\n",
            "[ 20 150 480]\n",
            "[20.   6.   7.5]\n"
          ]
        }
      ]
    },
    {
      "cell_type": "code",
      "execution_count": null,
      "metadata": {
        "colab": {
          "base_uri": "https://localhost:8080/"
        },
        "id": "siaVpfDTOKrt",
        "outputId": "ed250e4e-4b49-4910-a6d5-e7a9cb82da5a"
      },
      "outputs": [
        {
          "name": "stdout",
          "output_type": "stream",
          "text": [
            "[[1 2 3]\n",
            " [4 5 6]]\n"
          ]
        }
      ],
      "source": [
        "import numpy as np\n",
        "\n",
        "arr = np.array([[1, 2, 3], [4, 5, 6]])\n",
        "\n",
        "print(arr)"
      ]
    },
    {
      "cell_type": "code",
      "execution_count": null,
      "metadata": {
        "colab": {
          "base_uri": "https://localhost:8080/"
        },
        "id": "CoySHIObkjVO",
        "outputId": "66909784-d9f7-41da-81d9-e2bca1c0b39b"
      },
      "outputs": [
        {
          "name": "stdout",
          "output_type": "stream",
          "text": [
            "6\n"
          ]
        }
      ],
      "source": [
        "import numpy as np\n",
        "\n",
        "arr = np.array([[[1, 2, 3], [4, 5, 6]], [[7, 8, 9], [10, 11, 12]]])\n",
        "\n",
        "print(arr[0, 1, 2])"
      ]
    },
    {
      "cell_type": "code",
      "execution_count": null,
      "metadata": {
        "colab": {
          "base_uri": "https://localhost:8080/"
        },
        "id": "voyjJMgOkstw",
        "outputId": "009701d8-86f9-43c9-e1b3-d1deae5e76d6"
      },
      "outputs": [
        {
          "name": "stdout",
          "output_type": "stream",
          "text": [
            "[2]\n",
            "[1 5]\n",
            "[1 2 3]\n",
            "3\n"
          ]
        }
      ],
      "source": [
        "import numpy as np\n",
        "A = np.array([1,2,3,4])\n",
        "print(A[1:2])\n",
        "B = np.array([1,3,5,7,9])\n",
        "print(B[0:4:2])\n",
        "print(A[:-1])\n",
        "C = np.array([[1,2,3,4],[5,6,7,8]])\n",
        "print(C[0][2])"
      ]
    },
    {
      "cell_type": "code",
      "execution_count": null,
      "metadata": {
        "colab": {
          "base_uri": "https://localhost:8080/"
        },
        "id": "68ykKbY7Aiml",
        "outputId": "44c4919a-dcca-47ec-c23f-252add1ce498"
      },
      "outputs": [
        {
          "name": "stdout",
          "output_type": "stream",
          "text": [
            "[0 2 3 4]\n"
          ]
        }
      ],
      "source": [
        "import numpy as np\n",
        "\n",
        "arr1 = np.array([1, 2, 3, 4])\n",
        "arr2 = arr1.view()\n",
        "\n",
        "arr2[0] = 0\n",
        "print(arr1)\n"
      ]
    },
    {
      "cell_type": "code",
      "execution_count": null,
      "metadata": {
        "colab": {
          "background_save": true
        },
        "id": "Fmz33fXDPRAE",
        "outputId": "396a7706-0e28-4789-c3a6-6d71c245626e"
      },
      "outputs": [
        {
          "name": "stdout",
          "output_type": "stream",
          "text": [
            "31\n",
            "3\n",
            "8\n"
          ]
        }
      ],
      "source": [
        "import numpy as np\n",
        "a=([[[5,6,8],[5,4,3]]])\n",
        "print(np.sum(a))\n",
        "print(np.min(a))\n",
        "print(np.max(a))"
      ]
    },
    {
      "cell_type": "code",
      "source": [
        "import numpy as np\n",
        "\n",
        "arr1 = np.array([1, 2, 3, 4])\n",
        "arr2 = arr1.view()\n",
        "\n",
        "arr2[0] = 0\n",
        "print(arr1)\n"
      ],
      "metadata": {
        "colab": {
          "base_uri": "https://localhost:8080/"
        },
        "id": "7Usxy4pdBRuu",
        "outputId": "cc774894-6c9e-4718-ab8d-3debacfe8ffb"
      },
      "execution_count": null,
      "outputs": [
        {
          "output_type": "stream",
          "name": "stdout",
          "text": [
            "Original Array: [3 1 4 1 5 9 2 6 5 3 5]\n",
            "Sorted Array: [1 1 2 3 3 4 5 5 5 6 9]\n"
          ]
        }
      ]
    },
    {
      "cell_type": "code",
      "source": [
        "import numpy as np\n",
        "\n",
        "\n",
        "array1 = np.array([1, 2, 3, 4, 5])\n",
        "array2 = np.array([10, 20, 30, 40, 50])\n",
        "\n",
        "\n",
        "result = array1 + array2\n",
        "\n",
        "\n",
        "print(\"Array 1:\", array1)\n",
        "print(\"Array 2:\", array2)\n",
        "print(\"Result of Addition:\", result)\n"
      ],
      "metadata": {
        "colab": {
          "base_uri": "https://localhost:8080/"
        },
        "id": "sAyDDUfpBv4S",
        "outputId": "288de3c6-76e7-4930-ddb9-d6982d0a9bc8"
      },
      "execution_count": null,
      "outputs": [
        {
          "output_type": "stream",
          "name": "stdout",
          "text": [
            "Array 1: [1 2 3 4 5]\n",
            "Array 2: [10 20 30 40 50]\n",
            "Result of Addition: [11 22 33 44 55]\n"
          ]
        }
      ]
    },
    {
      "cell_type": "code",
      "source": [
        "import numpy as np\n",
        "\n",
        "arr = np.array([1, 2, 3, 4, 5, 6, 7, 8, 9, 10])\n",
        "\n",
        "# Split the array into 2 sub-arrays\n",
        "sub_arrays = np.split(arr, 2)\n",
        "\n",
        "print(\"Original Array:\", arr)\n",
        "print(\"Sub-Arrays:\", sub_arrays)\n"
      ],
      "metadata": {
        "colab": {
          "base_uri": "https://localhost:8080/"
        },
        "id": "j9FCR2zEDXTO",
        "outputId": "32770a72-7e9a-4e4d-d61a-462c18ee89b4"
      },
      "execution_count": null,
      "outputs": [
        {
          "output_type": "stream",
          "name": "stdout",
          "text": [
            "Original Array: [ 1  2  3  4  5  6  7  8  9 10]\n",
            "Sub-Arrays: [array([1, 2, 3, 4, 5]), array([ 6,  7,  8,  9, 10])]\n"
          ]
        }
      ]
    },
    {
      "cell_type": "code",
      "source": [
        "import numpy as np\n",
        "\n",
        "arr = np.array([10,20,30,60,50])\n",
        "\n",
        "arr[1]=25\n",
        "\n",
        "print (\"Modified array:\",arr)\n"
      ],
      "metadata": {
        "colab": {
          "base_uri": "https://localhost:8080/"
        },
        "id": "d-YW4LkXEd2V",
        "outputId": "abedc002-41bf-4d0f-af2b-8c0bf17f451c"
      },
      "execution_count": null,
      "outputs": [
        {
          "output_type": "stream",
          "name": "stdout",
          "text": [
            "Modified array: [10 25 30 60 50]\n"
          ]
        }
      ]
    },
    {
      "cell_type": "code",
      "source": [
        "import numpy as np\n",
        "\n",
        "array1 = np.array([[1, 2, 3],\n",
        "                   [4, 5, 6]])\n",
        "\n",
        "array2 = np.array([[7, 8, 9],\n",
        "                   [10, 11, 12]])\n",
        "\n",
        "vertical_stack = np.vstack((array1, array2))\n",
        "\n",
        "horizontal_stack = np.hstack((array1, array2))\n",
        "\n",
        "print(\"Array 1:\")\n",
        "print(array1)\n",
        "print(\"Array 2:\")\n",
        "print(array2)\n",
        "\n",
        "print(\"Vertical Stack:\")\n",
        "print(vertical_stack)\n",
        "\n",
        "print(\"Horizontal Stack:\")\n",
        "print(horizontal_stack)\n"
      ],
      "metadata": {
        "colab": {
          "base_uri": "https://localhost:8080/"
        },
        "id": "2i0iEqM5IWrU",
        "outputId": "8e552445-25af-41f8-da6a-90e471a20979"
      },
      "execution_count": null,
      "outputs": [
        {
          "output_type": "stream",
          "name": "stdout",
          "text": [
            "Array 1:\n",
            "[[1 2 3]\n",
            " [4 5 6]]\n",
            "Array 2:\n",
            "[[ 7  8  9]\n",
            " [10 11 12]]\n",
            "Vertical Stack:\n",
            "[[ 1  2  3]\n",
            " [ 4  5  6]\n",
            " [ 7  8  9]\n",
            " [10 11 12]]\n",
            "Horizontal Stack:\n",
            "[[ 1  2  3  7  8  9]\n",
            " [ 4  5  6 10 11 12]]\n"
          ]
        }
      ]
    }
  ],
  "metadata": {
    "colab": {
      "provenance": [],
      "authorship_tag": "ABX9TyMoDb2YbJbQMrrcsWyNlD9V",
      "include_colab_link": true
    },
    "kernelspec": {
      "display_name": "Python 3",
      "name": "python3"
    },
    "language_info": {
      "name": "python"
    }
  },
  "nbformat": 4,
  "nbformat_minor": 0
}